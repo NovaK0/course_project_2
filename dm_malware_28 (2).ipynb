{
 "cells": [
  {
   "cell_type": "code",
   "execution_count": 1,
   "id": "0ed83de3",
   "metadata": {},
   "outputs": [],
   "source": [
    "#importin libraries\n",
    "import pandas as pd\n",
    "import seaborn as sns\n",
    "import numpy as np\n",
    "import matplotlib.pyplot as plt\n",
    "from sklearn.preprocessing import LabelEncoder\n",
    "from sklearn.linear_model import LinearRegression\n",
    "from scipy.stats import zscore\n",
    "from sklearn.model_selection import train_test_split\n",
    "from sklearn.metrics import mean_squared_error, r2_score\n",
    "from sklearn.model_selection import train_test_split\n",
    "from sklearn.linear_model import LinearRegression\n",
    "from sklearn.model_selection import train_test_split, GridSearchCV\n",
    "from sklearn.preprocessing import StandardScaler\n",
    "from sklearn.metrics import mean_squared_error, r2_score\n",
    "from sklearn.preprocessing import PolynomialFeatures"
   ]
  },
  {
   "cell_type": "code",
   "execution_count": 2,
   "id": "e7337cdf",
   "metadata": {},
   "outputs": [],
   "source": [
    "data1 = pd.read_csv(r\"C:\\Users\\hkraw\\Downloads\\Malware Datasets\\CTU-IoT-Malware-Capture-1-1conn.log.labeled.csv\", delimiter='|')"
   ]
  },
  {
   "cell_type": "code",
   "execution_count": 3,
   "id": "0fc026f6",
   "metadata": {},
   "outputs": [],
   "source": [
    "data2 = pd.read_csv(r\"C:\\Users\\hkraw\\Downloads\\Malware Datasets\\CTU-IoT-Malware-Capture-20-1conn.log.labeled.csv\", delimiter='|')"
   ]
  },
  {
   "cell_type": "code",
   "execution_count": 4,
   "id": "126a4be4",
   "metadata": {},
   "outputs": [],
   "source": [
    "data3 = pd.read_csv(r\"C:\\Users\\hkraw\\Downloads\\Malware Datasets\\CTU-IoT-Malware-Capture-21-1conn.log.labeled.csv\", delimiter='|')"
   ]
  },
  {
   "cell_type": "code",
   "execution_count": 5,
   "id": "c9e82f5f",
   "metadata": {},
   "outputs": [],
   "source": [
    "data4 = pd.read_csv(r\"C:\\Users\\hkraw\\Downloads\\Malware Datasets\\CTU-IoT-Malware-Capture-3-1conn.log.labeled.csv\", delimiter='|')"
   ]
  },
  {
   "cell_type": "code",
   "execution_count": 6,
   "id": "9c8a6f62",
   "metadata": {},
   "outputs": [],
   "source": [
    "data5 = pd.read_csv(r\"C:\\Users\\hkraw\\Downloads\\Malware Datasets\\CTU-IoT-Malware-Capture-34-1conn.log.labeled.csv\", delimiter='|')"
   ]
  },
  {
   "cell_type": "code",
   "execution_count": 7,
   "id": "9ab68e5b",
   "metadata": {},
   "outputs": [],
   "source": [
    "data6 = pd.read_csv(r\"C:\\Users\\hkraw\\Downloads\\Malware Datasets\\CTU-IoT-Malware-Capture-35-1conn.log.labeled.csv\", delimiter='|')"
   ]
  },
  {
   "cell_type": "code",
   "execution_count": 8,
   "id": "6e5f45f6",
   "metadata": {},
   "outputs": [],
   "source": [
    "data7 = pd.read_csv(r\"C:\\Users\\hkraw\\Downloads\\Malware Datasets\\CTU-IoT-Malware-Capture-42-1conn.log.labeled.csv\", delimiter='|')"
   ]
  },
  {
   "cell_type": "code",
   "execution_count": 9,
   "id": "7afbd090",
   "metadata": {},
   "outputs": [],
   "source": [
    "data8 = pd.read_csv(r\"C:\\Users\\hkraw\\Downloads\\Malware Datasets\\CTU-IoT-Malware-Capture-48-1conn.log.labeled.csv\", delimiter='|', low_memory = False)"
   ]
  },
  {
   "cell_type": "code",
   "execution_count": 10,
   "id": "d4f3ec1d",
   "metadata": {},
   "outputs": [],
   "source": [
    "data9 = pd.read_csv(r\"C:\\Users\\hkraw\\Downloads\\Malware Datasets\\CTU-IoT-Malware-Capture-60-1conn.log.labeled.csv\", delimiter='|')"
   ]
  },
  {
   "cell_type": "code",
   "execution_count": 11,
   "id": "73f69c16",
   "metadata": {},
   "outputs": [],
   "source": [
    "data10 = pd.read_csv(r\"C:\\Users\\hkraw\\Downloads\\Malware Datasets\\CTU-IoT-Malware-Capture-9-1conn.log.labeled.csv\", delimiter='|')"
   ]
  },
  {
   "cell_type": "code",
   "execution_count": 12,
   "id": "f9cc6581",
   "metadata": {},
   "outputs": [],
   "source": [
    "data = pd.concat([data1, data2, data3, data4, data5, data6, data7, data8, data9, data10], ignore_index=True)"
   ]
  },
  {
   "cell_type": "code",
   "execution_count": 13,
   "id": "4a24c323",
   "metadata": {},
   "outputs": [
    {
     "data": {
      "text/html": [
       "<div>\n",
       "<style scoped>\n",
       "    .dataframe tbody tr th:only-of-type {\n",
       "        vertical-align: middle;\n",
       "    }\n",
       "\n",
       "    .dataframe tbody tr th {\n",
       "        vertical-align: top;\n",
       "    }\n",
       "\n",
       "    .dataframe thead th {\n",
       "        text-align: right;\n",
       "    }\n",
       "</style>\n",
       "<table border=\"1\" class=\"dataframe\">\n",
       "  <thead>\n",
       "    <tr style=\"text-align: right;\">\n",
       "      <th></th>\n",
       "      <th>ts</th>\n",
       "      <th>uid</th>\n",
       "      <th>id.orig_h</th>\n",
       "      <th>id.orig_p</th>\n",
       "      <th>id.resp_h</th>\n",
       "      <th>id.resp_p</th>\n",
       "      <th>proto</th>\n",
       "      <th>service</th>\n",
       "      <th>duration</th>\n",
       "      <th>orig_bytes</th>\n",
       "      <th>...</th>\n",
       "      <th>local_resp</th>\n",
       "      <th>missed_bytes</th>\n",
       "      <th>history</th>\n",
       "      <th>orig_pkts</th>\n",
       "      <th>orig_ip_bytes</th>\n",
       "      <th>resp_pkts</th>\n",
       "      <th>resp_ip_bytes</th>\n",
       "      <th>tunnel_parents</th>\n",
       "      <th>label</th>\n",
       "      <th>detailed-label</th>\n",
       "    </tr>\n",
       "  </thead>\n",
       "  <tbody>\n",
       "    <tr>\n",
       "      <th>0</th>\n",
       "      <td>1.525880e+09</td>\n",
       "      <td>CUmrqr4svHuSXJy5z7</td>\n",
       "      <td>192.168.100.103</td>\n",
       "      <td>51524.0</td>\n",
       "      <td>65.127.233.163</td>\n",
       "      <td>23.0</td>\n",
       "      <td>tcp</td>\n",
       "      <td>-</td>\n",
       "      <td>2.999051</td>\n",
       "      <td>0</td>\n",
       "      <td>...</td>\n",
       "      <td>-</td>\n",
       "      <td>0.0</td>\n",
       "      <td>S</td>\n",
       "      <td>3.0</td>\n",
       "      <td>180.0</td>\n",
       "      <td>0.0</td>\n",
       "      <td>0.0</td>\n",
       "      <td>-</td>\n",
       "      <td>Malicious</td>\n",
       "      <td>PartOfAHorizontalPortScan</td>\n",
       "    </tr>\n",
       "    <tr>\n",
       "      <th>1</th>\n",
       "      <td>1.525880e+09</td>\n",
       "      <td>CH98aB3s1kJeq6SFOc</td>\n",
       "      <td>192.168.100.103</td>\n",
       "      <td>56305.0</td>\n",
       "      <td>63.150.16.171</td>\n",
       "      <td>23.0</td>\n",
       "      <td>tcp</td>\n",
       "      <td>-</td>\n",
       "      <td>-</td>\n",
       "      <td>-</td>\n",
       "      <td>...</td>\n",
       "      <td>-</td>\n",
       "      <td>0.0</td>\n",
       "      <td>S</td>\n",
       "      <td>1.0</td>\n",
       "      <td>60.0</td>\n",
       "      <td>0.0</td>\n",
       "      <td>0.0</td>\n",
       "      <td>-</td>\n",
       "      <td>Malicious</td>\n",
       "      <td>PartOfAHorizontalPortScan</td>\n",
       "    </tr>\n",
       "    <tr>\n",
       "      <th>2</th>\n",
       "      <td>1.525880e+09</td>\n",
       "      <td>C3GBTkINvXNjVGtN5</td>\n",
       "      <td>192.168.100.103</td>\n",
       "      <td>41101.0</td>\n",
       "      <td>111.40.23.49</td>\n",
       "      <td>23.0</td>\n",
       "      <td>tcp</td>\n",
       "      <td>-</td>\n",
       "      <td>-</td>\n",
       "      <td>-</td>\n",
       "      <td>...</td>\n",
       "      <td>-</td>\n",
       "      <td>0.0</td>\n",
       "      <td>S</td>\n",
       "      <td>1.0</td>\n",
       "      <td>60.0</td>\n",
       "      <td>0.0</td>\n",
       "      <td>0.0</td>\n",
       "      <td>-</td>\n",
       "      <td>Malicious</td>\n",
       "      <td>PartOfAHorizontalPortScan</td>\n",
       "    </tr>\n",
       "    <tr>\n",
       "      <th>3</th>\n",
       "      <td>1.525880e+09</td>\n",
       "      <td>CDe43c1PtgynajGI6</td>\n",
       "      <td>192.168.100.103</td>\n",
       "      <td>60905.0</td>\n",
       "      <td>131.174.215.147</td>\n",
       "      <td>23.0</td>\n",
       "      <td>tcp</td>\n",
       "      <td>-</td>\n",
       "      <td>2.998796</td>\n",
       "      <td>0</td>\n",
       "      <td>...</td>\n",
       "      <td>-</td>\n",
       "      <td>0.0</td>\n",
       "      <td>S</td>\n",
       "      <td>3.0</td>\n",
       "      <td>180.0</td>\n",
       "      <td>0.0</td>\n",
       "      <td>0.0</td>\n",
       "      <td>-</td>\n",
       "      <td>Malicious</td>\n",
       "      <td>PartOfAHorizontalPortScan</td>\n",
       "    </tr>\n",
       "    <tr>\n",
       "      <th>4</th>\n",
       "      <td>1.525880e+09</td>\n",
       "      <td>CJaDcG3MZzvf1YVYI4</td>\n",
       "      <td>192.168.100.103</td>\n",
       "      <td>44301.0</td>\n",
       "      <td>91.42.47.63</td>\n",
       "      <td>23.0</td>\n",
       "      <td>tcp</td>\n",
       "      <td>-</td>\n",
       "      <td>-</td>\n",
       "      <td>-</td>\n",
       "      <td>...</td>\n",
       "      <td>-</td>\n",
       "      <td>0.0</td>\n",
       "      <td>S</td>\n",
       "      <td>1.0</td>\n",
       "      <td>60.0</td>\n",
       "      <td>0.0</td>\n",
       "      <td>0.0</td>\n",
       "      <td>-</td>\n",
       "      <td>Malicious</td>\n",
       "      <td>PartOfAHorizontalPortScan</td>\n",
       "    </tr>\n",
       "  </tbody>\n",
       "</table>\n",
       "<p>5 rows × 23 columns</p>\n",
       "</div>"
      ],
      "text/plain": [
       "             ts                 uid        id.orig_h  id.orig_p  \\\n",
       "0  1.525880e+09  CUmrqr4svHuSXJy5z7  192.168.100.103    51524.0   \n",
       "1  1.525880e+09  CH98aB3s1kJeq6SFOc  192.168.100.103    56305.0   \n",
       "2  1.525880e+09   C3GBTkINvXNjVGtN5  192.168.100.103    41101.0   \n",
       "3  1.525880e+09   CDe43c1PtgynajGI6  192.168.100.103    60905.0   \n",
       "4  1.525880e+09  CJaDcG3MZzvf1YVYI4  192.168.100.103    44301.0   \n",
       "\n",
       "         id.resp_h  id.resp_p proto service  duration orig_bytes  ...  \\\n",
       "0   65.127.233.163       23.0   tcp       -  2.999051          0  ...   \n",
       "1    63.150.16.171       23.0   tcp       -         -          -  ...   \n",
       "2     111.40.23.49       23.0   tcp       -         -          -  ...   \n",
       "3  131.174.215.147       23.0   tcp       -  2.998796          0  ...   \n",
       "4      91.42.47.63       23.0   tcp       -         -          -  ...   \n",
       "\n",
       "  local_resp missed_bytes history orig_pkts  orig_ip_bytes resp_pkts  \\\n",
       "0          -          0.0       S       3.0          180.0       0.0   \n",
       "1          -          0.0       S       1.0           60.0       0.0   \n",
       "2          -          0.0       S       1.0           60.0       0.0   \n",
       "3          -          0.0       S       3.0          180.0       0.0   \n",
       "4          -          0.0       S       1.0           60.0       0.0   \n",
       "\n",
       "   resp_ip_bytes  tunnel_parents      label             detailed-label  \n",
       "0            0.0               -  Malicious  PartOfAHorizontalPortScan  \n",
       "1            0.0               -  Malicious  PartOfAHorizontalPortScan  \n",
       "2            0.0               -  Malicious  PartOfAHorizontalPortScan  \n",
       "3            0.0               -  Malicious  PartOfAHorizontalPortScan  \n",
       "4            0.0               -  Malicious  PartOfAHorizontalPortScan  \n",
       "\n",
       "[5 rows x 23 columns]"
      ]
     },
     "execution_count": 13,
     "metadata": {},
     "output_type": "execute_result"
    }
   ],
   "source": [
    "data.head()"
   ]
  },
  {
   "cell_type": "code",
   "execution_count": 14,
   "id": "a62688b0",
   "metadata": {},
   "outputs": [
    {
     "data": {
      "text/plain": [
       "(25000363, 23)"
      ]
     },
     "execution_count": 14,
     "metadata": {},
     "output_type": "execute_result"
    }
   ],
   "source": [
    "data.shape"
   ]
  },
  {
   "cell_type": "code",
   "execution_count": 15,
   "id": "01628dc2",
   "metadata": {},
   "outputs": [
    {
     "name": "stdout",
     "output_type": "stream",
     "text": [
      "<class 'pandas.core.frame.DataFrame'>\n",
      "RangeIndex: 25000363 entries, 0 to 25000362\n",
      "Data columns (total 23 columns):\n",
      " #   Column          Dtype  \n",
      "---  ------          -----  \n",
      " 0   ts              float64\n",
      " 1   uid             object \n",
      " 2   id.orig_h       object \n",
      " 3   id.orig_p       float64\n",
      " 4   id.resp_h       object \n",
      " 5   id.resp_p       float64\n",
      " 6   proto           object \n",
      " 7   service         object \n",
      " 8   duration        object \n",
      " 9   orig_bytes      object \n",
      " 10  resp_bytes      object \n",
      " 11  conn_state      object \n",
      " 12  local_orig      object \n",
      " 13  local_resp      object \n",
      " 14  missed_bytes    float64\n",
      " 15  history         object \n",
      " 16  orig_pkts       float64\n",
      " 17  orig_ip_bytes   float64\n",
      " 18  resp_pkts       float64\n",
      " 19  resp_ip_bytes   float64\n",
      " 20  tunnel_parents  object \n",
      " 21  label           object \n",
      " 22  detailed-label  object \n",
      "dtypes: float64(8), object(15)\n",
      "memory usage: 4.3+ GB\n"
     ]
    }
   ],
   "source": [
    "data.info()"
   ]
  },
  {
   "cell_type": "code",
   "execution_count": 16,
   "id": "ea26a303",
   "metadata": {},
   "outputs": [
    {
     "data": {
      "text/html": [
       "<div>\n",
       "<style scoped>\n",
       "    .dataframe tbody tr th:only-of-type {\n",
       "        vertical-align: middle;\n",
       "    }\n",
       "\n",
       "    .dataframe tbody tr th {\n",
       "        vertical-align: top;\n",
       "    }\n",
       "\n",
       "    .dataframe thead th {\n",
       "        text-align: right;\n",
       "    }\n",
       "</style>\n",
       "<table border=\"1\" class=\"dataframe\">\n",
       "  <thead>\n",
       "    <tr style=\"text-align: right;\">\n",
       "      <th></th>\n",
       "      <th>ts</th>\n",
       "      <th>uid</th>\n",
       "      <th>id.orig_h</th>\n",
       "      <th>id.orig_p</th>\n",
       "      <th>id.resp_h</th>\n",
       "      <th>id.resp_p</th>\n",
       "      <th>proto</th>\n",
       "      <th>service</th>\n",
       "      <th>duration</th>\n",
       "      <th>orig_bytes</th>\n",
       "      <th>...</th>\n",
       "      <th>local_resp</th>\n",
       "      <th>missed_bytes</th>\n",
       "      <th>history</th>\n",
       "      <th>orig_pkts</th>\n",
       "      <th>orig_ip_bytes</th>\n",
       "      <th>resp_pkts</th>\n",
       "      <th>resp_ip_bytes</th>\n",
       "      <th>tunnel_parents</th>\n",
       "      <th>label</th>\n",
       "      <th>detailed-label</th>\n",
       "    </tr>\n",
       "  </thead>\n",
       "  <tbody>\n",
       "    <tr>\n",
       "      <th>0</th>\n",
       "      <td>1.525880e+09</td>\n",
       "      <td>CUmrqr4svHuSXJy5z7</td>\n",
       "      <td>192.168.100.103</td>\n",
       "      <td>51524.0</td>\n",
       "      <td>65.127.233.163</td>\n",
       "      <td>23.0</td>\n",
       "      <td>tcp</td>\n",
       "      <td>-</td>\n",
       "      <td>2.999051</td>\n",
       "      <td>0</td>\n",
       "      <td>...</td>\n",
       "      <td>-</td>\n",
       "      <td>0.0</td>\n",
       "      <td>S</td>\n",
       "      <td>3.0</td>\n",
       "      <td>180.0</td>\n",
       "      <td>0.0</td>\n",
       "      <td>0.0</td>\n",
       "      <td>-</td>\n",
       "      <td>Malicious</td>\n",
       "      <td>PartOfAHorizontalPortScan</td>\n",
       "    </tr>\n",
       "    <tr>\n",
       "      <th>1</th>\n",
       "      <td>1.525880e+09</td>\n",
       "      <td>CH98aB3s1kJeq6SFOc</td>\n",
       "      <td>192.168.100.103</td>\n",
       "      <td>56305.0</td>\n",
       "      <td>63.150.16.171</td>\n",
       "      <td>23.0</td>\n",
       "      <td>tcp</td>\n",
       "      <td>-</td>\n",
       "      <td>-</td>\n",
       "      <td>-</td>\n",
       "      <td>...</td>\n",
       "      <td>-</td>\n",
       "      <td>0.0</td>\n",
       "      <td>S</td>\n",
       "      <td>1.0</td>\n",
       "      <td>60.0</td>\n",
       "      <td>0.0</td>\n",
       "      <td>0.0</td>\n",
       "      <td>-</td>\n",
       "      <td>Malicious</td>\n",
       "      <td>PartOfAHorizontalPortScan</td>\n",
       "    </tr>\n",
       "    <tr>\n",
       "      <th>2</th>\n",
       "      <td>1.525880e+09</td>\n",
       "      <td>C3GBTkINvXNjVGtN5</td>\n",
       "      <td>192.168.100.103</td>\n",
       "      <td>41101.0</td>\n",
       "      <td>111.40.23.49</td>\n",
       "      <td>23.0</td>\n",
       "      <td>tcp</td>\n",
       "      <td>-</td>\n",
       "      <td>-</td>\n",
       "      <td>-</td>\n",
       "      <td>...</td>\n",
       "      <td>-</td>\n",
       "      <td>0.0</td>\n",
       "      <td>S</td>\n",
       "      <td>1.0</td>\n",
       "      <td>60.0</td>\n",
       "      <td>0.0</td>\n",
       "      <td>0.0</td>\n",
       "      <td>-</td>\n",
       "      <td>Malicious</td>\n",
       "      <td>PartOfAHorizontalPortScan</td>\n",
       "    </tr>\n",
       "    <tr>\n",
       "      <th>3</th>\n",
       "      <td>1.525880e+09</td>\n",
       "      <td>CDe43c1PtgynajGI6</td>\n",
       "      <td>192.168.100.103</td>\n",
       "      <td>60905.0</td>\n",
       "      <td>131.174.215.147</td>\n",
       "      <td>23.0</td>\n",
       "      <td>tcp</td>\n",
       "      <td>-</td>\n",
       "      <td>2.998796</td>\n",
       "      <td>0</td>\n",
       "      <td>...</td>\n",
       "      <td>-</td>\n",
       "      <td>0.0</td>\n",
       "      <td>S</td>\n",
       "      <td>3.0</td>\n",
       "      <td>180.0</td>\n",
       "      <td>0.0</td>\n",
       "      <td>0.0</td>\n",
       "      <td>-</td>\n",
       "      <td>Malicious</td>\n",
       "      <td>PartOfAHorizontalPortScan</td>\n",
       "    </tr>\n",
       "    <tr>\n",
       "      <th>4</th>\n",
       "      <td>1.525880e+09</td>\n",
       "      <td>CJaDcG3MZzvf1YVYI4</td>\n",
       "      <td>192.168.100.103</td>\n",
       "      <td>44301.0</td>\n",
       "      <td>91.42.47.63</td>\n",
       "      <td>23.0</td>\n",
       "      <td>tcp</td>\n",
       "      <td>-</td>\n",
       "      <td>-</td>\n",
       "      <td>-</td>\n",
       "      <td>...</td>\n",
       "      <td>-</td>\n",
       "      <td>0.0</td>\n",
       "      <td>S</td>\n",
       "      <td>1.0</td>\n",
       "      <td>60.0</td>\n",
       "      <td>0.0</td>\n",
       "      <td>0.0</td>\n",
       "      <td>-</td>\n",
       "      <td>Malicious</td>\n",
       "      <td>PartOfAHorizontalPortScan</td>\n",
       "    </tr>\n",
       "  </tbody>\n",
       "</table>\n",
       "<p>5 rows × 23 columns</p>\n",
       "</div>"
      ],
      "text/plain": [
       "             ts                 uid        id.orig_h  id.orig_p  \\\n",
       "0  1.525880e+09  CUmrqr4svHuSXJy5z7  192.168.100.103    51524.0   \n",
       "1  1.525880e+09  CH98aB3s1kJeq6SFOc  192.168.100.103    56305.0   \n",
       "2  1.525880e+09   C3GBTkINvXNjVGtN5  192.168.100.103    41101.0   \n",
       "3  1.525880e+09   CDe43c1PtgynajGI6  192.168.100.103    60905.0   \n",
       "4  1.525880e+09  CJaDcG3MZzvf1YVYI4  192.168.100.103    44301.0   \n",
       "\n",
       "         id.resp_h  id.resp_p proto service  duration orig_bytes  ...  \\\n",
       "0   65.127.233.163       23.0   tcp       -  2.999051          0  ...   \n",
       "1    63.150.16.171       23.0   tcp       -         -          -  ...   \n",
       "2     111.40.23.49       23.0   tcp       -         -          -  ...   \n",
       "3  131.174.215.147       23.0   tcp       -  2.998796          0  ...   \n",
       "4      91.42.47.63       23.0   tcp       -         -          -  ...   \n",
       "\n",
       "  local_resp missed_bytes history orig_pkts  orig_ip_bytes resp_pkts  \\\n",
       "0          -          0.0       S       3.0          180.0       0.0   \n",
       "1          -          0.0       S       1.0           60.0       0.0   \n",
       "2          -          0.0       S       1.0           60.0       0.0   \n",
       "3          -          0.0       S       3.0          180.0       0.0   \n",
       "4          -          0.0       S       1.0           60.0       0.0   \n",
       "\n",
       "   resp_ip_bytes  tunnel_parents      label             detailed-label  \n",
       "0            0.0               -  Malicious  PartOfAHorizontalPortScan  \n",
       "1            0.0               -  Malicious  PartOfAHorizontalPortScan  \n",
       "2            0.0               -  Malicious  PartOfAHorizontalPortScan  \n",
       "3            0.0               -  Malicious  PartOfAHorizontalPortScan  \n",
       "4            0.0               -  Malicious  PartOfAHorizontalPortScan  \n",
       "\n",
       "[5 rows x 23 columns]"
      ]
     },
     "execution_count": 16,
     "metadata": {},
     "output_type": "execute_result"
    }
   ],
   "source": [
    "data.head()"
   ]
  },
  {
   "cell_type": "code",
   "execution_count": 17,
   "id": "a2b78dc8",
   "metadata": {},
   "outputs": [],
   "source": [
    "# Calculating the number of missing values in each column\n",
    "missing_values = data.isnull().sum()"
   ]
  },
  {
   "cell_type": "code",
   "execution_count": 18,
   "id": "516c33c1",
   "metadata": {},
   "outputs": [
    {
     "data": {
      "text/plain": [
       "ts                      0\n",
       "uid                     0\n",
       "id.orig_h               0\n",
       "id.orig_p               0\n",
       "id.resp_h               0\n",
       "id.resp_p               0\n",
       "proto                   0\n",
       "service                 0\n",
       "duration                0\n",
       "orig_bytes              0\n",
       "resp_bytes              0\n",
       "conn_state              0\n",
       "local_orig              0\n",
       "local_resp              0\n",
       "missed_bytes            0\n",
       "history                 0\n",
       "orig_pkts               0\n",
       "orig_ip_bytes           0\n",
       "resp_pkts               0\n",
       "resp_ip_bytes           0\n",
       "tunnel_parents          0\n",
       "label                   0\n",
       "detailed-label    9173939\n",
       "dtype: int64"
      ]
     },
     "execution_count": 18,
     "metadata": {},
     "output_type": "execute_result"
    }
   ],
   "source": [
    "missing_values"
   ]
  },
  {
   "cell_type": "code",
   "execution_count": 19,
   "id": "9dd1e1a9",
   "metadata": {},
   "outputs": [
    {
     "data": {
      "text/plain": [
       "ts                 0.000000\n",
       "uid                0.000000\n",
       "id.orig_h          0.000000\n",
       "id.orig_p          0.000000\n",
       "id.resp_h          0.000000\n",
       "id.resp_p          0.000000\n",
       "proto              0.000000\n",
       "service            0.000000\n",
       "duration           0.000000\n",
       "orig_bytes         0.000000\n",
       "resp_bytes         0.000000\n",
       "conn_state         0.000000\n",
       "local_orig         0.000000\n",
       "local_resp         0.000000\n",
       "missed_bytes       0.000000\n",
       "history            0.000000\n",
       "orig_pkts          0.000000\n",
       "orig_ip_bytes      0.000000\n",
       "resp_pkts          0.000000\n",
       "resp_ip_bytes      0.000000\n",
       "tunnel_parents     0.000000\n",
       "label              0.000000\n",
       "detailed-label    36.695223\n",
       "dtype: float64"
      ]
     },
     "execution_count": 19,
     "metadata": {},
     "output_type": "execute_result"
    }
   ],
   "source": [
    "# Calculating the percentage of missing values in each column\n",
    "missing_values*100/len(data)"
   ]
  },
  {
   "cell_type": "code",
   "execution_count": 20,
   "id": "0e94b159",
   "metadata": {},
   "outputs": [
    {
     "name": "stdout",
     "output_type": "stream",
     "text": [
      "                 Value     Count  Percentage\n",
      "0        192.168.1.196  10446132   41.783921\n",
      "1      192.168.100.111   6375629   25.502146\n",
      "2        192.168.1.195   3602157   14.408419\n",
      "3        192.168.1.200   3392003   13.567815\n",
      "4      192.168.100.103    994268    3.977014\n",
      "...                ...       ...         ...\n",
      "21436   84.210.208.102         1    0.000004\n",
      "21437     66.191.14.60         1    0.000004\n",
      "21438     187.51.180.2         1    0.000004\n",
      "21439  181.170.185.211         1    0.000004\n",
      "21440   192.94.118.248         1    0.000004\n",
      "\n",
      "[21441 rows x 3 columns]\n"
     ]
    }
   ],
   "source": [
    "column_name = 'id.orig_h'\n",
    "\n",
    "# Get the value counts\n",
    "value_counts = data[column_name].value_counts()\n",
    "\n",
    "# Calculate percentages\n",
    "percentages = (value_counts / len(data[column_name])) * 100\n",
    "\n",
    "# Combine values and percentages into a DataFrame\n",
    "result_df = pd.DataFrame({'Value': value_counts.index, 'Count': value_counts.values, 'Percentage': percentages.values})\n",
    "\n",
    "# Print the result\n",
    "print(result_df)\n"
   ]
  },
  {
   "cell_type": "code",
   "execution_count": 21,
   "id": "9ea19e2f",
   "metadata": {},
   "outputs": [
    {
     "name": "stdout",
     "output_type": "stream",
     "text": [
      "                       Value    Count  Percentage\n",
      "0                          -  8777766   35.110554\n",
      "1  PartOfAHorizontalPortScan  7041695   28.166371\n",
      "2                     Attack     5962    0.023848\n",
      "3                  HeartBeat      940    0.003760\n",
      "4                      Torii       30    0.000120\n",
      "5                        C&C       16    0.000064\n",
      "6               FileDownload       15    0.000060\n"
     ]
    }
   ],
   "source": [
    "column_name = 'detailed-label'\n",
    "\n",
    "# Get the value counts\n",
    "value_counts = data[column_name].value_counts()\n",
    "\n",
    "# Calculate percentages\n",
    "percentages = (value_counts / len(data[column_name])) * 100\n",
    "\n",
    "# Combine values and percentages into a DataFrame\n",
    "result_df = pd.DataFrame({'Value': value_counts.index, 'Count': value_counts.values, 'Percentage': percentages.values})\n",
    "\n",
    "# Print the result\n",
    "print(result_df)\n"
   ]
  },
  {
   "cell_type": "code",
   "execution_count": 22,
   "id": "57da0d47",
   "metadata": {},
   "outputs": [
    {
     "name": "stdout",
     "output_type": "stream",
     "text": [
      "                                   Value    Count  Percentage\n",
      "0                                 Benign  8777766   35.110554\n",
      "1                              Malicious  7046785   28.186731\n",
      "2                       Malicious   DDoS  5778153   23.112276\n",
      "3  Malicious   PartOfAHorizontalPortScan  3386241   13.544767\n",
      "4                        Malicious   C&C     8660    0.034639\n",
      "5                     Malicious   Attack     2755    0.011020\n",
      "6               Malicious   FileDownload        3    0.000012\n"
     ]
    }
   ],
   "source": [
    "column_name = 'label'\n",
    "\n",
    "# Get the value counts\n",
    "value_counts = data[column_name].value_counts()\n",
    "\n",
    "# Calculate percentages\n",
    "percentages = (value_counts / len(data[column_name])) * 100\n",
    "\n",
    "# Combine values and percentages into a DataFrame\n",
    "result_df = pd.DataFrame({'Value': value_counts.index, 'Count': value_counts.values, 'Percentage': percentages.values})\n",
    "\n",
    "# Print the result\n",
    "print(result_df)\n"
   ]
  },
  {
   "cell_type": "code",
   "execution_count": 23,
   "id": "32e8ff7f",
   "metadata": {},
   "outputs": [
    {
     "name": "stdout",
     "output_type": "stream",
     "text": [
      "  Value     Count  Percentage\n",
      "0     -  25000363       100.0\n"
     ]
    }
   ],
   "source": [
    "column_name = 'tunnel_parents'\n",
    "\n",
    "# Get the value counts\n",
    "value_counts = data[column_name].value_counts()\n",
    "\n",
    "# Calculate percentages\n",
    "percentages = (value_counts / len(data[column_name])) * 100\n",
    "\n",
    "# Combine values and percentages into a DataFrame\n",
    "result_df = pd.DataFrame({'Value': value_counts.index, 'Count': value_counts.values, 'Percentage': percentages.values})\n",
    "\n",
    "# Print the result\n",
    "print(result_df)\n"
   ]
  },
  {
   "cell_type": "code",
   "execution_count": 24,
   "id": "902b1715",
   "metadata": {},
   "outputs": [
    {
     "name": "stdout",
     "output_type": "stream",
     "text": [
      "        Value     Count  Percentage\n",
      "0           S  18720002   74.878921\n",
      "1           C   3592643   14.370363\n",
      "2           I   2119476    8.477781\n",
      "3           D    422774    1.691071\n",
      "4         DTT     65534    0.262132\n",
      "..        ...       ...         ...\n",
      "258   DdAtaFf         1    0.000004\n",
      "259       ^hA         1    0.000004\n",
      "260  ShAFdfRt         1    0.000004\n",
      "261    ^hADFr         1    0.000004\n",
      "262      ^dDA         1    0.000004\n",
      "\n",
      "[263 rows x 3 columns]\n"
     ]
    }
   ],
   "source": [
    "column_name = 'history'\n",
    "\n",
    "# Get the value counts\n",
    "value_counts = data[column_name].value_counts()\n",
    "\n",
    "# Calculate percentages\n",
    "percentages = (value_counts / len(data[column_name])) * 100\n",
    "\n",
    "# Combine values and percentages into a DataFrame\n",
    "result_df = pd.DataFrame({'Value': value_counts.index, 'Count': value_counts.values, 'Percentage': percentages.values})\n",
    "\n",
    "# Print the result\n",
    "print(result_df)\n"
   ]
  },
  {
   "cell_type": "code",
   "execution_count": 25,
   "id": "f54b1500",
   "metadata": {},
   "outputs": [
    {
     "name": "stdout",
     "output_type": "stream",
     "text": [
      "           Value     Count  Percentage\n",
      "0   0.000000e+00  25000331   99.999872\n",
      "1   5.792000e+03         9    0.000036\n",
      "2   2.896000e+03         7    0.000028\n",
      "3   2.472000e+03         2    0.000008\n",
      "4   2.920000e+03         2    0.000008\n",
      "5   1.908819e+09         1    0.000004\n",
      "6   1.440000e+03         1    0.000004\n",
      "7   8.088000e+03         1    0.000004\n",
      "8   1.460000e+03         1    0.000004\n",
      "9   4.380000e+03         1    0.000004\n",
      "10  4.344000e+03         1    0.000004\n",
      "11  1.448000e+03         1    0.000004\n",
      "12  1.579000e+03         1    0.000004\n",
      "13  5.390000e+03         1    0.000004\n",
      "14  4.500000e+03         1    0.000004\n",
      "15  1.582000e+03         1    0.000004\n",
      "16  8.160000e+03         1    0.000004\n"
     ]
    }
   ],
   "source": [
    "column_name = 'missed_bytes'\n",
    "\n",
    "# Get the value counts\n",
    "value_counts = data[column_name].value_counts()\n",
    "\n",
    "# Calculate percentages\n",
    "percentages = (value_counts / len(data[column_name])) * 100\n",
    "\n",
    "# Combine values and percentages into a DataFrame\n",
    "result_df = pd.DataFrame({'Value': value_counts.index, 'Count': value_counts.values, 'Percentage': percentages.values})\n",
    "\n",
    "# Print the result\n",
    "print(result_df)\n"
   ]
  },
  {
   "cell_type": "code",
   "execution_count": 26,
   "id": "642d6a1f",
   "metadata": {},
   "outputs": [
    {
     "name": "stdout",
     "output_type": "stream",
     "text": [
      "  Value     Count  Percentage\n",
      "0     -  25000363       100.0\n"
     ]
    }
   ],
   "source": [
    "column_name = 'local_orig'\n",
    "\n",
    "# Get the value counts\n",
    "value_counts = data[column_name].value_counts()\n",
    "\n",
    "# Calculate percentages\n",
    "percentages = (value_counts / len(data[column_name])) * 100\n",
    "\n",
    "# Combine values and percentages into a DataFrame\n",
    "result_df = pd.DataFrame({'Value': value_counts.index, 'Count': value_counts.values, 'Percentage': percentages.values})\n",
    "\n",
    "# Print the result\n",
    "print(result_df)\n"
   ]
  },
  {
   "cell_type": "code",
   "execution_count": 27,
   "id": "2876e8ea",
   "metadata": {},
   "outputs": [
    {
     "name": "stdout",
     "output_type": "stream",
     "text": [
      "     Value     Count  Percentage\n",
      "0       S0  19142796   76.570072\n",
      "1      OTH   3685333   14.741118\n",
      "2   RSTOS0   2119852    8.479285\n",
      "3       SF     30956    0.123822\n",
      "4      REJ     16072    0.064287\n",
      "5       S3      2458    0.009832\n",
      "6     RSTR      1917    0.007668\n",
      "7     RSTO       514    0.002056\n",
      "8       S2       136    0.000544\n",
      "9       S1       130    0.000520\n",
      "10      SH       120    0.000480\n",
      "11   RSTRH        78    0.000312\n",
      "12     SHR         1    0.000004\n"
     ]
    }
   ],
   "source": [
    "column_name = 'conn_state'\n",
    "\n",
    "# Get the value counts\n",
    "value_counts = data[column_name].value_counts()\n",
    "\n",
    "# Calculate percentages\n",
    "percentages = (value_counts / len(data[column_name])) * 100\n",
    "\n",
    "# Combine values and percentages into a DataFrame\n",
    "result_df = pd.DataFrame({'Value': value_counts.index, 'Count': value_counts.values, 'Percentage': percentages.values})\n",
    "\n",
    "# Print the result\n",
    "print(result_df)\n"
   ]
  },
  {
   "cell_type": "code",
   "execution_count": 28,
   "id": "6c358c96",
   "metadata": {},
   "outputs": [
    {
     "name": "stdout",
     "output_type": "stream",
     "text": [
      "    Value     Count  Percentage\n",
      "0       -  15265807   61.062341\n",
      "1       0   9700862   38.802885\n",
      "2      48     10628    0.042511\n",
      "3      45      2827    0.011308\n",
      "4      96      1622    0.006488\n",
      "..    ...       ...         ...\n",
      "867   932         1    0.000004\n",
      "868   815         1    0.000004\n",
      "869  2092         1    0.000004\n",
      "870  1759         1    0.000004\n",
      "871   630         1    0.000004\n",
      "\n",
      "[872 rows x 3 columns]\n"
     ]
    }
   ],
   "source": [
    "column_name = 'resp_bytes'\n",
    "\n",
    "# Get the value counts\n",
    "value_counts = data[column_name].value_counts()\n",
    "\n",
    "# Calculate percentages\n",
    "percentages = (value_counts / len(data[column_name])) * 100\n",
    "\n",
    "# Combine values and percentages into a DataFrame\n",
    "result_df = pd.DataFrame({'Value': value_counts.index,'Count': value_counts.values, 'Percentage': percentages.values})\n",
    "\n",
    "# Print the result\n",
    "print(result_df)\n"
   ]
  },
  {
   "cell_type": "code",
   "execution_count": 29,
   "id": "3e357219",
   "metadata": {},
   "outputs": [
    {
     "name": "stdout",
     "output_type": "stream",
     "text": [
      "  Value     Count  Percentage\n",
      "0     -  24982377   99.928057\n",
      "1   dns      7033    0.028132\n",
      "2   ssh      5899    0.023596\n",
      "3  http      3385    0.013540\n",
      "4   irc      1647    0.006588\n",
      "5  dhcp        11    0.000044\n",
      "6   ssl        11    0.000044\n"
     ]
    }
   ],
   "source": [
    "column_name = 'service'\n",
    "\n",
    "# Get the value counts\n",
    "value_counts = data[column_name].value_counts()\n",
    "\n",
    "# Calculate percentages\n",
    "percentages = (value_counts / len(data[column_name])) * 100\n",
    "\n",
    "# Combine values and percentages into a DataFrame\n",
    "result_df = pd.DataFrame({'Value': value_counts.index,'Count': value_counts.values, 'Percentage': percentages.values})\n",
    "\n",
    "# Print the result\n",
    "print(result_df)\n"
   ]
  },
  {
   "cell_type": "code",
   "execution_count": 30,
   "id": "41165102",
   "metadata": {},
   "outputs": [
    {
     "name": "stdout",
     "output_type": "stream",
     "text": [
      "  Value     Count  Percentage\n",
      "0   tcp  24535142   98.139143\n",
      "1   udp    440105    1.760394\n",
      "2  icmp     25116    0.100463\n"
     ]
    }
   ],
   "source": [
    "column_name = 'proto'\n",
    "\n",
    "# Get the value counts\n",
    "value_counts = data[column_name].value_counts()\n",
    "\n",
    "# Calculate percentages\n",
    "percentages = (value_counts / len(data[column_name])) * 100\n",
    "\n",
    "# Combine values and percentages into a DataFrame\n",
    "result_df = pd.DataFrame({'Value': value_counts.index,'Count': value_counts.values, 'Percentage': percentages.values})\n",
    "\n",
    "# Print the result\n",
    "print(result_df)\n"
   ]
  },
  {
   "cell_type": "code",
   "execution_count": 31,
   "id": "cdb1b301",
   "metadata": {},
   "outputs": [
    {
     "name": "stdout",
     "output_type": "stream",
     "text": [
      "         Value     Count  Percentage\n",
      "0         23.0  15704290   62.816248\n",
      "1      62336.0   3578396   14.313376\n",
      "2         81.0   2575670   10.302530\n",
      "3         80.0   1126095    4.504315\n",
      "4        992.0   1008424    4.033637\n",
      "...        ...       ...         ...\n",
      "65430  25904.0         1    0.000004\n",
      "65431  27624.0         1    0.000004\n",
      "65432   2958.0         1    0.000004\n",
      "65433   3237.0         1    0.000004\n",
      "65434  35113.0         1    0.000004\n",
      "\n",
      "[65435 rows x 3 columns]\n"
     ]
    }
   ],
   "source": [
    "column_name = 'id.resp_p'\n",
    "\n",
    "# Get the value counts\n",
    "value_counts = data[column_name].value_counts()\n",
    "\n",
    "# Calculate percentages\n",
    "percentages = (value_counts / len(data[column_name])) * 100\n",
    "\n",
    "# Combine values and percentages into a DataFrame\n",
    "result_df = pd.DataFrame({'Value': value_counts.index,'Count': value_counts.values, 'Percentage': percentages.values})\n",
    "\n",
    "# Print the result\n",
    "print(result_df)"
   ]
  },
  {
   "cell_type": "code",
   "execution_count": 32,
   "id": "e2aec6bb",
   "metadata": {},
   "outputs": [
    {
     "name": "stdout",
     "output_type": "stream",
     "text": [
      "                   Value    Count  Percentage\n",
      "0         162.248.88.215  3578392   14.313360\n",
      "1           54.39.87.104  1008351    4.033345\n",
      "2         209.97.190.136   908544    3.634123\n",
      "3          216.18.168.16   268405    1.073604\n",
      "4         200.168.87.203    23295    0.093179\n",
      "...                  ...      ...         ...\n",
      "11654569    42.35.27.220        1    0.000004\n",
      "11654570   124.80.154.73        1    0.000004\n",
      "11654571  65.228.217.172        1    0.000004\n",
      "11654572    88.53.92.141        1    0.000004\n",
      "11654573   173.94.58.125        1    0.000004\n",
      "\n",
      "[11654574 rows x 3 columns]\n"
     ]
    }
   ],
   "source": [
    "column_name = 'id.resp_h'\n",
    "\n",
    "# Get the value counts\n",
    "value_counts = data[column_name].value_counts()\n",
    "\n",
    "# Calculate percentages\n",
    "percentages = (value_counts / len(data[column_name])) * 100\n",
    "\n",
    "# Combine values and percentages into a DataFrame\n",
    "result_df = pd.DataFrame({'Value': value_counts.index,'Count': value_counts.values, 'Percentage': percentages.values})\n",
    "\n",
    "# Print the result\n",
    "print(result_df)"
   ]
  },
  {
   "cell_type": "code",
   "execution_count": 33,
   "id": "30ba97eb",
   "metadata": {},
   "outputs": [
    {
     "name": "stdout",
     "output_type": "stream",
     "text": [
      "<class 'pandas.core.frame.DataFrame'>\n",
      "RangeIndex: 25000363 entries, 0 to 25000362\n",
      "Data columns (total 23 columns):\n",
      " #   Column          Dtype  \n",
      "---  ------          -----  \n",
      " 0   ts              float64\n",
      " 1   uid             object \n",
      " 2   id.orig_h       object \n",
      " 3   id.orig_p       float64\n",
      " 4   id.resp_h       object \n",
      " 5   id.resp_p       float64\n",
      " 6   proto           object \n",
      " 7   service         object \n",
      " 8   duration        object \n",
      " 9   orig_bytes      object \n",
      " 10  resp_bytes      object \n",
      " 11  conn_state      object \n",
      " 12  local_orig      object \n",
      " 13  local_resp      object \n",
      " 14  missed_bytes    float64\n",
      " 15  history         object \n",
      " 16  orig_pkts       float64\n",
      " 17  orig_ip_bytes   float64\n",
      " 18  resp_pkts       float64\n",
      " 19  resp_ip_bytes   float64\n",
      " 20  tunnel_parents  object \n",
      " 21  label           object \n",
      " 22  detailed-label  object \n",
      "dtypes: float64(8), object(15)\n",
      "memory usage: 4.3+ GB\n"
     ]
    }
   ],
   "source": [
    "data.info()"
   ]
  },
  {
   "cell_type": "code",
   "execution_count": 34,
   "id": "2c2dd313",
   "metadata": {},
   "outputs": [],
   "source": [
    "data.replace('-',None,inplace=True)"
   ]
  },
  {
   "cell_type": "code",
   "execution_count": 35,
   "id": "8db60876",
   "metadata": {},
   "outputs": [
    {
     "data": {
      "text/plain": [
       "ts                  0.000000\n",
       "uid                 0.000000\n",
       "id.orig_h           0.000000\n",
       "id.orig_p           0.000000\n",
       "id.resp_h           0.000000\n",
       "id.resp_p           0.000000\n",
       "proto               0.000000\n",
       "service            99.928057\n",
       "duration           61.062341\n",
       "orig_bytes         61.062341\n",
       "resp_bytes         61.062341\n",
       "conn_state          0.000000\n",
       "local_orig        100.000000\n",
       "local_resp        100.000000\n",
       "missed_bytes        0.000000\n",
       "history             0.100463\n",
       "orig_pkts           0.000000\n",
       "orig_ip_bytes       0.000000\n",
       "resp_pkts           0.000000\n",
       "resp_ip_bytes       0.000000\n",
       "tunnel_parents    100.000000\n",
       "label               0.000000\n",
       "detailed-label     71.805777\n",
       "dtype: float64"
      ]
     },
     "execution_count": 35,
     "metadata": {},
     "output_type": "execute_result"
    }
   ],
   "source": [
    "data.isnull().sum()*100/len(data)"
   ]
  },
  {
   "cell_type": "code",
   "execution_count": 36,
   "id": "4a15d34e",
   "metadata": {},
   "outputs": [],
   "source": [
    "cols_to_drop = ['service','duration','orig_bytes','resp_bytes','local_orig','local_resp','tunnel_parents','detailed-label','uid','id.orig_h','id.resp_h']\n",
    "data.drop(columns=cols_to_drop, inplace = True)"
   ]
  },
  {
   "cell_type": "code",
   "execution_count": 37,
   "id": "10bfd4a8",
   "metadata": {},
   "outputs": [
    {
     "name": "stdout",
     "output_type": "stream",
     "text": [
      "<class 'pandas.core.frame.DataFrame'>\n",
      "RangeIndex: 25000363 entries, 0 to 25000362\n",
      "Data columns (total 12 columns):\n",
      " #   Column         Dtype  \n",
      "---  ------         -----  \n",
      " 0   ts             float64\n",
      " 1   id.orig_p      float64\n",
      " 2   id.resp_p      float64\n",
      " 3   proto          object \n",
      " 4   conn_state     object \n",
      " 5   missed_bytes   float64\n",
      " 6   history        object \n",
      " 7   orig_pkts      float64\n",
      " 8   orig_ip_bytes  float64\n",
      " 9   resp_pkts      float64\n",
      " 10  resp_ip_bytes  float64\n",
      " 11  label          object \n",
      "dtypes: float64(8), object(4)\n",
      "memory usage: 2.2+ GB\n"
     ]
    }
   ],
   "source": [
    "data.info()"
   ]
  },
  {
   "cell_type": "code",
   "execution_count": 38,
   "id": "fb4645dc",
   "metadata": {},
   "outputs": [
    {
     "data": {
      "text/plain": [
       "(25000363, 12)"
      ]
     },
     "execution_count": 38,
     "metadata": {},
     "output_type": "execute_result"
    }
   ],
   "source": [
    "data.shape"
   ]
  },
  {
   "cell_type": "code",
   "execution_count": 39,
   "id": "00a1e089",
   "metadata": {},
   "outputs": [],
   "source": [
    "cols_to_label = ['proto','conn_state','history','label']\n",
    "le = LabelEncoder()\n",
    "for col in cols_to_label:\n",
    "    data[col] = le.fit_transform(data[col])"
   ]
  },
  {
   "cell_type": "code",
   "execution_count": 40,
   "id": "e49d1c92",
   "metadata": {},
   "outputs": [
    {
     "data": {
      "text/html": [
       "<div>\n",
       "<style scoped>\n",
       "    .dataframe tbody tr th:only-of-type {\n",
       "        vertical-align: middle;\n",
       "    }\n",
       "\n",
       "    .dataframe tbody tr th {\n",
       "        vertical-align: top;\n",
       "    }\n",
       "\n",
       "    .dataframe thead th {\n",
       "        text-align: right;\n",
       "    }\n",
       "</style>\n",
       "<table border=\"1\" class=\"dataframe\">\n",
       "  <thead>\n",
       "    <tr style=\"text-align: right;\">\n",
       "      <th></th>\n",
       "      <th>ts</th>\n",
       "      <th>id.orig_p</th>\n",
       "      <th>id.resp_p</th>\n",
       "      <th>proto</th>\n",
       "      <th>conn_state</th>\n",
       "      <th>missed_bytes</th>\n",
       "      <th>history</th>\n",
       "      <th>orig_pkts</th>\n",
       "      <th>orig_ip_bytes</th>\n",
       "      <th>resp_pkts</th>\n",
       "      <th>resp_ip_bytes</th>\n",
       "      <th>label</th>\n",
       "    </tr>\n",
       "  </thead>\n",
       "  <tbody>\n",
       "    <tr>\n",
       "      <th>0</th>\n",
       "      <td>1.525880e+09</td>\n",
       "      <td>51524.0</td>\n",
       "      <td>23.0</td>\n",
       "      <td>1</td>\n",
       "      <td>6</td>\n",
       "      <td>0.0</td>\n",
       "      <td>40</td>\n",
       "      <td>3.0</td>\n",
       "      <td>180.0</td>\n",
       "      <td>0.0</td>\n",
       "      <td>0.0</td>\n",
       "      <td>1</td>\n",
       "    </tr>\n",
       "    <tr>\n",
       "      <th>1</th>\n",
       "      <td>1.525880e+09</td>\n",
       "      <td>56305.0</td>\n",
       "      <td>23.0</td>\n",
       "      <td>1</td>\n",
       "      <td>6</td>\n",
       "      <td>0.0</td>\n",
       "      <td>40</td>\n",
       "      <td>1.0</td>\n",
       "      <td>60.0</td>\n",
       "      <td>0.0</td>\n",
       "      <td>0.0</td>\n",
       "      <td>1</td>\n",
       "    </tr>\n",
       "    <tr>\n",
       "      <th>2</th>\n",
       "      <td>1.525880e+09</td>\n",
       "      <td>41101.0</td>\n",
       "      <td>23.0</td>\n",
       "      <td>1</td>\n",
       "      <td>6</td>\n",
       "      <td>0.0</td>\n",
       "      <td>40</td>\n",
       "      <td>1.0</td>\n",
       "      <td>60.0</td>\n",
       "      <td>0.0</td>\n",
       "      <td>0.0</td>\n",
       "      <td>1</td>\n",
       "    </tr>\n",
       "    <tr>\n",
       "      <th>3</th>\n",
       "      <td>1.525880e+09</td>\n",
       "      <td>60905.0</td>\n",
       "      <td>23.0</td>\n",
       "      <td>1</td>\n",
       "      <td>6</td>\n",
       "      <td>0.0</td>\n",
       "      <td>40</td>\n",
       "      <td>3.0</td>\n",
       "      <td>180.0</td>\n",
       "      <td>0.0</td>\n",
       "      <td>0.0</td>\n",
       "      <td>1</td>\n",
       "    </tr>\n",
       "    <tr>\n",
       "      <th>4</th>\n",
       "      <td>1.525880e+09</td>\n",
       "      <td>44301.0</td>\n",
       "      <td>23.0</td>\n",
       "      <td>1</td>\n",
       "      <td>6</td>\n",
       "      <td>0.0</td>\n",
       "      <td>40</td>\n",
       "      <td>1.0</td>\n",
       "      <td>60.0</td>\n",
       "      <td>0.0</td>\n",
       "      <td>0.0</td>\n",
       "      <td>1</td>\n",
       "    </tr>\n",
       "  </tbody>\n",
       "</table>\n",
       "</div>"
      ],
      "text/plain": [
       "             ts  id.orig_p  id.resp_p  proto  conn_state  missed_bytes  \\\n",
       "0  1.525880e+09    51524.0       23.0      1           6           0.0   \n",
       "1  1.525880e+09    56305.0       23.0      1           6           0.0   \n",
       "2  1.525880e+09    41101.0       23.0      1           6           0.0   \n",
       "3  1.525880e+09    60905.0       23.0      1           6           0.0   \n",
       "4  1.525880e+09    44301.0       23.0      1           6           0.0   \n",
       "\n",
       "   history  orig_pkts  orig_ip_bytes  resp_pkts  resp_ip_bytes  label  \n",
       "0       40        3.0          180.0        0.0            0.0      1  \n",
       "1       40        1.0           60.0        0.0            0.0      1  \n",
       "2       40        1.0           60.0        0.0            0.0      1  \n",
       "3       40        3.0          180.0        0.0            0.0      1  \n",
       "4       40        1.0           60.0        0.0            0.0      1  "
      ]
     },
     "execution_count": 40,
     "metadata": {},
     "output_type": "execute_result"
    }
   ],
   "source": [
    "data.head()"
   ]
  },
  {
   "cell_type": "code",
   "execution_count": 41,
   "id": "1e6b67f2",
   "metadata": {},
   "outputs": [
    {
     "data": {
      "text/plain": [
       "array([1, 2, 0])"
      ]
     },
     "execution_count": 41,
     "metadata": {},
     "output_type": "execute_result"
    }
   ],
   "source": [
    "data['proto'].unique()"
   ]
  },
  {
   "cell_type": "code",
   "execution_count": 42,
   "id": "2b312169",
   "metadata": {},
   "outputs": [
    {
     "name": "stdout",
     "output_type": "stream",
     "text": [
      "<class 'pandas.core.frame.DataFrame'>\n",
      "RangeIndex: 25000363 entries, 0 to 25000362\n",
      "Data columns (total 12 columns):\n",
      " #   Column         Dtype  \n",
      "---  ------         -----  \n",
      " 0   ts             float64\n",
      " 1   id.orig_p      float64\n",
      " 2   id.resp_p      float64\n",
      " 3   proto          int32  \n",
      " 4   conn_state     int32  \n",
      " 5   missed_bytes   float64\n",
      " 6   history        int32  \n",
      " 7   orig_pkts      float64\n",
      " 8   orig_ip_bytes  float64\n",
      " 9   resp_pkts      float64\n",
      " 10  resp_ip_bytes  float64\n",
      " 11  label          int32  \n",
      "dtypes: float64(8), int32(4)\n",
      "memory usage: 1.9 GB\n"
     ]
    }
   ],
   "source": [
    "data.info()"
   ]
  },
  {
   "cell_type": "code",
   "execution_count": 43,
   "id": "26caca6a",
   "metadata": {},
   "outputs": [],
   "source": [
    "cor = data.corr()"
   ]
  },
  {
   "cell_type": "code",
   "execution_count": 44,
   "id": "e5f50b9f",
   "metadata": {},
   "outputs": [
    {
     "data": {
      "image/png": "[encoded data removed]",
      "text/plain": [
       "<Figure size 1400x1000 with 2 Axes>"
      ]
     },
     "metadata": {},
     "output_type": "display_data"
    }
   ],
   "source": [
    "plt.figure(figsize=(14,10))\n",
    "sns.heatmap(cor, annot = True, cmap='coolwarm')\n",
    "plt.title('Correlation Heatmap')\n",
    "plt.show()"
   ]
  },
  {
   "cell_type": "code",
   "execution_count": 45,
   "id": "7c956d1b",
   "metadata": {},
   "outputs": [],
   "source": [
    "cols_to_drop1 = ['missed_bytes','orig_pkts','orig_ip_bytes','resp_pkts','resp_ip_bytes']\n",
    "data.drop(columns=cols_to_drop1, inplace = True)"
   ]
  },
  {
   "cell_type": "code",
   "execution_count": 46,
   "id": "a56be435",
   "metadata": {},
   "outputs": [
    {
     "name": "stdout",
     "output_type": "stream",
     "text": [
      "<class 'pandas.core.frame.DataFrame'>\n",
      "RangeIndex: 25000363 entries, 0 to 25000362\n",
      "Data columns (total 7 columns):\n",
      " #   Column      Dtype  \n",
      "---  ------      -----  \n",
      " 0   ts          float64\n",
      " 1   id.orig_p   float64\n",
      " 2   id.resp_p   float64\n",
      " 3   proto       int32  \n",
      " 4   conn_state  int32  \n",
      " 5   history     int32  \n",
      " 6   label       int32  \n",
      "dtypes: float64(3), int32(4)\n",
      "memory usage: 953.7 MB\n"
     ]
    }
   ],
   "source": [
    "data.info()"
   ]
  },
  {
   "cell_type": "code",
   "execution_count": 47,
   "id": "bd177dd7",
   "metadata": {},
   "outputs": [
    {
     "data": {
      "text/plain": [
       "(25000363, 7)"
      ]
     },
     "execution_count": 47,
     "metadata": {},
     "output_type": "execute_result"
    }
   ],
   "source": [
    "data.shape"
   ]
  },
  {
   "cell_type": "code",
   "execution_count": 48,
   "id": "b7ee8e41",
   "metadata": {},
   "outputs": [],
   "source": [
    "from sklearn.model_selection import train_test_split\n",
    "\n",
    "X = data[['ts', 'id.orig_p', 'id.resp_p', 'conn_state', 'history', 'label']]\n",
    "y = data['proto']\n",
    "\n",
    "X_train, X_test, y_train, y_test = train_test_split(X, y, test_size=0.2, random_state=42)\n"
   ]
  },
  {
   "cell_type": "code",
   "execution_count": 49,
   "id": "bb5900a6",
   "metadata": {},
   "outputs": [],
   "source": [
    "from sklearn.preprocessing import StandardScaler\n",
    "\n",
    "scaler = StandardScaler()\n",
    "X_train_scaled = scaler.fit_transform(X_train)\n",
    "X_test_scaled = scaler.transform(X_test)\n"
   ]
  },
  {
   "cell_type": "code",
   "execution_count": 50,
   "id": "7c4d8534",
   "metadata": {},
   "outputs": [
    {
     "data": {
      "text/html": [
       "<style>#sk-container-id-1 {color: black;}#sk-container-id-1 pre{padding: 0;}#sk-container-id-1 div.sk-toggleable {background-color: white;}#sk-container-id-1 label.sk-toggleable__label {cursor: pointer;display: block;width: 100%;margin-bottom: 0;padding: 0.3em;box-sizing: border-box;text-align: center;}#sk-container-id-1 label.sk-toggleable__label-arrow:before {content: \"▸\";float: left;margin-right: 0.25em;color: #696969;}#sk-container-id-1 label.sk-toggleable__label-arrow:hover:before {color: black;}#sk-container-id-1 div.sk-estimator:hover label.sk-toggleable__label-arrow:before {color: black;}#sk-container-id-1 div.sk-toggleable__content {max-height: 0;max-width: 0;overflow: hidden;text-align: left;background-color: #f0f8ff;}#sk-container-id-1 div.sk-toggleable__content pre {margin: 0.2em;color: black;border-radius: 0.25em;background-color: #f0f8ff;}#sk-container-id-1 input.sk-toggleable__control:checked~div.sk-toggleable__content {max-height: 200px;max-width: 100%;overflow: auto;}#sk-container-id-1 input.sk-toggleable__control:checked~label.sk-toggleable__label-arrow:before {content: \"▾\";}#sk-container-id-1 div.sk-estimator input.sk-toggleable__control:checked~label.sk-toggleable__label {background-color: #d4ebff;}#sk-container-id-1 div.sk-label input.sk-toggleable__control:checked~label.sk-toggleable__label {background-color: #d4ebff;}#sk-container-id-1 input.sk-hidden--visually {border: 0;clip: rect(1px 1px 1px 1px);clip: rect(1px, 1px, 1px, 1px);height: 1px;margin: -1px;overflow: hidden;padding: 0;position: absolute;width: 1px;}#sk-container-id-1 div.sk-estimator {font-family: monospace;background-color: #f0f8ff;border: 1px dotted black;border-radius: 0.25em;box-sizing: border-box;margin-bottom: 0.5em;}#sk-container-id-1 div.sk-estimator:hover {background-color: #d4ebff;}#sk-container-id-1 div.sk-parallel-item::after {content: \"\";width: 100%;border-bottom: 1px solid gray;flex-grow: 1;}#sk-container-id-1 div.sk-label:hover label.sk-toggleable__label {background-color: #d4ebff;}#sk-container-id-1 div.sk-serial::before {content: \"\";position: absolute;border-left: 1px solid gray;box-sizing: border-box;top: 0;bottom: 0;left: 50%;z-index: 0;}#sk-container-id-1 div.sk-serial {display: flex;flex-direction: column;align-items: center;background-color: white;padding-right: 0.2em;padding-left: 0.2em;position: relative;}#sk-container-id-1 div.sk-item {position: relative;z-index: 1;}#sk-container-id-1 div.sk-parallel {display: flex;align-items: stretch;justify-content: center;background-color: white;position: relative;}#sk-container-id-1 div.sk-item::before, #sk-container-id-1 div.sk-parallel-item::before {content: \"\";position: absolute;border-left: 1px solid gray;box-sizing: border-box;top: 0;bottom: 0;left: 50%;z-index: -1;}#sk-container-id-1 div.sk-parallel-item {display: flex;flex-direction: column;z-index: 1;position: relative;background-color: white;}#sk-container-id-1 div.sk-parallel-item:first-child::after {align-self: flex-end;width: 50%;}#sk-container-id-1 div.sk-parallel-item:last-child::after {align-self: flex-start;width: 50%;}#sk-container-id-1 div.sk-parallel-item:only-child::after {width: 0;}#sk-container-id-1 div.sk-dashed-wrapped {border: 1px dashed gray;margin: 0 0.4em 0.5em 0.4em;box-sizing: border-box;padding-bottom: 0.4em;background-color: white;}#sk-container-id-1 div.sk-label label {font-family: monospace;font-weight: bold;display: inline-block;line-height: 1.2em;}#sk-container-id-1 div.sk-label-container {text-align: center;}#sk-container-id-1 div.sk-container {/* jupyter's `normalize.less` sets `[hidden] { display: none; }` but bootstrap.min.css set `[hidden] { display: none !important; }` so we also need the `!important` here to be able to override the default hidden behavior on the sphinx rendered scikit-learn.org. See: https://github.com/scikit-learn/scikit-learn/issues/21755 */display: inline-block !important;position: relative;}#sk-container-id-1 div.sk-text-repr-fallback {display: none;}</style><div id=\"sk-container-id-1\" class=\"sk-top-container\"><div class=\"sk-text-repr-fallback\"><pre>KNeighborsClassifier()</pre><b>In a Jupyter environment, please rerun this cell to show the HTML representation or trust the notebook. <br />On GitHub, the HTML representation is unable to render, please try loading this page with nbviewer.org.</b></div><div class=\"sk-container\" hidden><div class=\"sk-item\"><div class=\"sk-estimator sk-toggleable\"><input class=\"sk-toggleable__control sk-hidden--visually\" id=\"sk-estimator-id-1\" type=\"checkbox\" checked><label for=\"sk-estimator-id-1\" class=\"sk-toggleable__label sk-toggleable__label-arrow\">KNeighborsClassifier</label><div class=\"sk-toggleable__content\"><pre>KNeighborsClassifier()</pre></div></div></div></div></div>"
      ],
      "text/plain": [
       "KNeighborsClassifier()"
      ]
     },
     "execution_count": 50,
     "metadata": {},
     "output_type": "execute_result"
    }
   ],
   "source": [
    "from sklearn.neighbors import KNeighborsClassifier\n",
    "\n",
    "# Define the model (you can experiment with different values of 'n_neighbors')\n",
    "knn = KNeighborsClassifier(n_neighbors=5)\n",
    "\n",
    "# Train the model\n",
    "knn.fit(X_train_scaled, y_train)\n"
   ]
  },
  {
   "cell_type": "code",
   "execution_count": 51,
   "id": "1dcd192d",
   "metadata": {},
   "outputs": [
    {
     "name": "stdout",
     "output_type": "stream",
     "text": [
      "Accuracy: 0.9999992000116799\n"
     ]
    }
   ],
   "source": [
    "from sklearn.metrics import accuracy_score\n",
    "\n",
    "# Predict on the test set\n",
    "y_pred = knn.predict(X_test_scaled)\n",
    "\n",
    "# Calculate the accuracy\n",
    "accuracy = accuracy_score(y_test, y_pred)\n",
    "print(f'Accuracy: {accuracy}')\n"
   ]
  },
  {
   "cell_type": "code",
   "execution_count": null,
   "id": "af86d23f",
   "metadata": {},
   "outputs": [],
   "source": []
  }
 ],
 "metadata": {
  "kernelspec": {
   "display_name": "Python 3 (ipykernel)",
   "language": "python",
   "name": "python3"
  },
  "language_info": {
   "codemirror_mode": {
    "name": "ipython",
    "version": 3
   },
   "file_extension": ".py",
   "mimetype": "text/x-python",
   "name": "python",
   "nbconvert_exporter": "python",
   "pygments_lexer": "ipython3",
   "version": "3.11.4"
  }
 },
 "nbformat": 4,
 "nbformat_minor": 5
}
